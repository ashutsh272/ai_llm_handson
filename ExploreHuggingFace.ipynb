{
  "nbformat": 4,
  "nbformat_minor": 0,
  "metadata": {
    "colab": {
      "provenance": [],
      "gpuType": "T4",
      "authorship_tag": "ABX9TyMujqeNn1DtRVD6DWr1UeaP",
      "include_colab_link": true
    },
    "kernelspec": {
      "name": "python3",
      "display_name": "Python 3"
    },
    "language_info": {
      "name": "python"
    },
    "accelerator": "GPU"
  },
  "cells": [
    {
      "cell_type": "markdown",
      "metadata": {
        "id": "view-in-github",
        "colab_type": "text"
      },
      "source": [
        "<a href=\"https://colab.research.google.com/github/ashutsh272/ai_llm_handson/blob/main/ExploreHuggingFace.ipynb\" target=\"_parent\"><img src=\"https://colab.research.google.com/assets/colab-badge.svg\" alt=\"Open In Colab\"/></a>"
      ]
    },
    {
      "cell_type": "code",
      "execution_count": null,
      "metadata": {
        "id": "7zTJYAqULH0Y"
      },
      "outputs": [],
      "source": [
        "import torch\n",
        "from google.colab import userdata\n",
        "from huggingface_hub import login\n",
        "from transformers import pipeline\n",
        "from diffusers import DiffusionPipeline\n",
        "from datasets import load_dataset\n",
        "import soundfile as sf\n",
        "from IPython.display import Audio"
      ]
    },
    {
      "cell_type": "code",
      "source": [],
      "metadata": {
        "id": "WFj8ND55NiXs"
      },
      "execution_count": null,
      "outputs": []
    },
    {
      "cell_type": "code",
      "source": [
        "hf_token = userdata.get('HF_TOKEN')\n",
        "login(hf_token, add_to_git_credential=True)"
      ],
      "metadata": {
        "id": "Xm8BbMncM3lV"
      },
      "execution_count": null,
      "outputs": []
    },
    {
      "cell_type": "code",
      "source": [],
      "metadata": {
        "id": "h9J3ftxlNjdz"
      },
      "execution_count": null,
      "outputs": []
    },
    {
      "cell_type": "code",
      "source": [
        "# Sentiment Analysis\n",
        "\n",
        "classifier = pipeline(\"sentiment-analysis\", device=\"cuda\")\n",
        "result = classifier(\"I'm super excited to be on the way to LLM mastery!\")\n",
        "print(result)"
      ],
      "metadata": {
        "id": "WMvLAlAbNAvF"
      },
      "execution_count": null,
      "outputs": []
    },
    {
      "cell_type": "code",
      "source": [
        "# Question Answering with Context\n",
        "\n",
        "question_answerer = pipeline(\"question-answering\", device=\"cuda\")\n",
        "result = question_answerer(question=\"Who was the 44th president of the United States?\", context=\"Barack Obama was the 44th president of the United States.\")\n",
        "print(result)"
      ],
      "metadata": {
        "id": "2i3dVWWcNkTr"
      },
      "execution_count": null,
      "outputs": []
    },
    {
      "cell_type": "code",
      "source": [
        "# Text Summarization\n",
        "\n",
        "summarizer = pipeline(\"summarization\", device=\"cuda\")\n",
        "text = \"\"\"The Hugging Face transformers library is an incredibly versatile and powerful tool for natural language processing (NLP).\n",
        "It allows users to perform a wide range of tasks such as text classification, named entity recognition, and question answering, among others.\n",
        "It's an extremely popular library that's widely used by the open-source data science community.\n",
        "It lowers the barrier to entry into the field by providing Data Scientists with a productive, convenient way to work with transformer models.\n",
        "\"\"\"\n",
        "summary = summarizer(text, max_length=50, min_length=25, do_sample=False)\n",
        "print(summary[0]['summary_text'])"
      ],
      "metadata": {
        "id": "UqsQ8nR1SOma"
      },
      "execution_count": null,
      "outputs": []
    },
    {
      "cell_type": "code",
      "source": [
        "# Translation\n",
        "\n",
        "translator = pipeline(\"translation_en_to_fr\", device=\"cuda\")\n",
        "result = translator(\"The Data Scientists were truly amazed by the power and simplicity of the HuggingFace pipeline API.\")\n",
        "print(result[0]['translation_text'])"
      ],
      "metadata": {
        "id": "uVs0KyQMSbeW"
      },
      "execution_count": null,
      "outputs": []
    },
    {
      "cell_type": "code",
      "source": [
        "# Text Generation\n",
        "\n",
        "generator = pipeline(\"text-generation\", device=\"cuda\")\n",
        "result = generator(\"List of huggingface libray - pipeline tasks\")\n",
        "print(result[0]['generated_text'])"
      ],
      "metadata": {
        "id": "HqtI74hXTDvc"
      },
      "execution_count": null,
      "outputs": []
    },
    {
      "cell_type": "code",
      "source": [
        "import torch\n",
        "from diffusers import TextToVideoZeroPipeline\n",
        "import imageio\n",
        "model_id = \"stable-diffusion-v1-5/stable-diffusion-v1-5\"\n",
        "pipe = TextToVideoZeroPipeline.from_pretrained(model_id, torch_dtype=torch.float16).to(\"cuda\")\n",
        "\n",
        "prompt = \"A panda is playing guitar on times square\"\n",
        "result = pipe(prompt=prompt).images\n",
        "result = [(r * 255).astype(\"uint8\") for r in result]\n",
        "imageio.mimsave(\"panda.mp4\", result, fps=4)"
      ],
      "metadata": {
        "id": "6UAW6EgGTScS"
      },
      "execution_count": null,
      "outputs": []
    },
    {
      "cell_type": "code",
      "source": [],
      "metadata": {
        "id": "xB8pr-ckdFxW"
      },
      "execution_count": null,
      "outputs": []
    },
    {
      "cell_type": "code",
      "source": [],
      "metadata": {
        "id": "_U_cupaHc4dj"
      },
      "execution_count": null,
      "outputs": []
    },
    {
      "cell_type": "code",
      "source": [
        "import torch\n",
        "from diffusers import I2VGenXLPipeline\n",
        "from diffusers.utils import export_to_gif, load_image\n",
        "\n",
        "pipeline = I2VGenXLPipeline.from_pretrained(\n",
        "    \"ali-vilab/i2vgen-xl\", torch_dtype=torch.float16, variant=\"fp16\"\n",
        ")\n",
        "pipeline.enable_model_cpu_offload()\n",
        "\n",
        "image_url = (\n",
        "    \"https://huggingface.co/datasets/diffusers/docs-images/resolve/main/i2vgen_xl_images/img_0009.png\"\n",
        ")\n",
        "image = load_image(image_url).convert(\"RGB\")\n",
        "\n",
        "prompt = \"Papers were floating in the air on a table in the library\"\n",
        "negative_prompt = \"Distorted, discontinuous, Ugly, blurry, low resolution, motionless, static, disfigured, disconnected limbs, Ugly faces, incomplete arms\"\n",
        "generator = torch.manual_seed(8888)\n",
        "\n",
        "frames = pipeline(\n",
        "    prompt=prompt,\n",
        "    image=image,\n",
        "    num_inference_steps=50,\n",
        "    negative_prompt=negative_prompt,\n",
        "    guidance_scale=9.0,\n",
        "    generator=generator,\n",
        ").frames[0]\n",
        "video_path = export_to_gif(frames, \"i2v.gif\")"
      ],
      "metadata": {
        "id": "QT2TmH-FbJ1f"
      },
      "execution_count": null,
      "outputs": []
    },
    {
      "cell_type": "code",
      "source": [],
      "metadata": {
        "id": "tpdkolvAcIxt"
      },
      "execution_count": null,
      "outputs": []
    },
    {
      "cell_type": "markdown",
      "source": [
        "There's a list pipelines under the Tasks on this page (you have to scroll down a bit, then expand the parameters to see the Tasks):\n",
        "\n",
        "https://huggingface.co/docs/transformers/main_classes/pipelines\n",
        "\n",
        "There's also this list of Tasks for Diffusion models instead of Transformers, following the image generation example where I use DiffusionPipeline above.\n",
        "\n",
        "https://huggingface.co/docs/diffusers/en/api/pipelines/overview"
      ],
      "metadata": {
        "id": "MtmVqTiuTnow"
      }
    }
  ]
}